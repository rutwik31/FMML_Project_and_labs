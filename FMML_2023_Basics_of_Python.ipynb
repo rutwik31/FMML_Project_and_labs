{
  "nbformat": 4,
  "nbformat_minor": 0,
  "metadata": {
    "colab": {
      "provenance": [],
      "include_colab_link": true
    },
    "kernelspec": {
      "name": "python3",
      "display_name": "Python 3"
    },
    "language_info": {
      "name": "python"
    }
  },
  "cells": [
    {
      "cell_type": "markdown",
      "metadata": {
        "id": "view-in-github",
        "colab_type": "text"
      },
      "source": [
        "<a href=\"https://colab.research.google.com/github/rutwik31/FMML_Project_and_labs/blob/main/FMML_2023_Basics_of_Python.ipynb\" target=\"_parent\"><img src=\"https://colab.research.google.com/assets/colab-badge.svg\" alt=\"Open In Colab\"/></a>"
      ]
    },
    {
      "cell_type": "markdown",
      "source": [
        "# Getting Started\n",
        "\n",
        "FMML Module 1, Lab 1 <br>\n",
        " Module Coordinator: Amit Pandey ( amit.pandey@research.iiit.ac.in ) <br>\n",
        " Release date: Aug 2022 <br>\n",
        "\n"
      ],
      "metadata": {
        "id": "TMVRKfbpTAeR"
      }
    },
    {
      "cell_type": "markdown",
      "source": [
        "### In this notebook we will be covering the very basics of Python and some basic libraries such as Numpy, Matplotlib and Nltk.\n",
        "#### It is suggested that you go through each line and try some examples."
      ],
      "metadata": {
        "id": "F-XjWYLBTI0f"
      }
    },
    {
      "cell_type": "markdown",
      "source": [
        "#### Section 1 - Python : Basic data types and indexing."
      ],
      "metadata": {
        "id": "wEyEnIhnTdhB"
      }
    },
    {
      "cell_type": "code",
      "source": [
        "## Strings\n",
        "'''\n",
        "A string is a collection of one or more characters put in a single quote,\n",
        " double-quote or triple quote. In python there is no character data type,\n",
        " a character is a string of length one. It is represented by str class.\n",
        "\n",
        "String can have special characters. String can be indexed\n",
        "\n",
        "'''\n",
        "\n",
        "\n",
        "name = 'First Lab'\n",
        "name_extended = name + 'Module 1'\n",
        "last_element_string = name[-1] # -1 in python is index of the last element.\n",
        "## indexing is important for preprocessing of the raw data."
      ],
      "metadata": {
        "id": "AzguFJmTQIqt"
      },
      "execution_count": 1,
      "outputs": []
    },
    {
      "cell_type": "code",
      "source": [
        "print(name ,\"\\n\", name_extended, \"\\n\", last_element_string)"
      ],
      "metadata": {
        "colab": {
          "base_uri": "https://localhost:8080/"
        },
        "id": "DPokcpuLQO6s",
        "outputId": "0eeae8c6-9df0-4d64-f24d-8f24d566d2e4"
      },
      "execution_count": 3,
      "outputs": [
        {
          "output_type": "stream",
          "name": "stdout",
          "text": [
            "First Lab \n",
            " First LabModule 1 \n",
            " b\n"
          ]
        }
      ]
    },
    {
      "cell_type": "code",
      "source": [
        "## List\n",
        "\n",
        "'''\n",
        "Lists are ordered collection of data, and are very similar to arrays,\n",
        "It is very flexible as the items in a list do not need to be of the same type.\n",
        "'''\n",
        "\n",
        "name_list = ['First Lab', 3 , '1.1' , 'Lab 1'] ## notice elements are of different data type.\n",
        "name_list.extend(['Module 1']) ## adding elements to list (Read about append method as well).\n",
        "element_2 = name_list[1] ## Just like other languages, the index starts from 0.\n",
        "two_dimesional_list = [[1,2],[3,4]] ## practice with multi-dimensional lists and arrays\n",
        "## you would soon be required to handle 4 dimensional data :p :)\n",
        "name_list[2] = '1.111' ##list elements can be changed"
      ],
      "metadata": {
        "id": "g7WZtwkpE2tO"
      },
      "execution_count": 2,
      "outputs": []
    },
    {
      "cell_type": "code",
      "source": [
        "print(name_list)\n",
        "print(element_2)\n",
        "print(two_dimesional_list)\n",
        "## list can have list, dictionary, string etc."
      ],
      "metadata": {
        "colab": {
          "base_uri": "https://localhost:8080/"
        },
        "id": "vblBrQflE9Cs",
        "outputId": "6aca07f1-23b5-41fa-a1ce-c3493e047619"
      },
      "execution_count": 4,
      "outputs": [
        {
          "output_type": "stream",
          "name": "stdout",
          "text": [
            "['First Lab', 3, '1.111', 'Lab 1', 'Module 1']\n",
            "3\n",
            "[[1, 2], [3, 4]]\n"
          ]
        }
      ]
    },
    {
      "cell_type": "code",
      "source": [
        "## Tuples\n",
        "\n",
        "name_tuple = ('First Lab', 1, (2,3),[1,1,'list having string']) ## A tuple can have a tuple.\n",
        "\n",
        "print(name_tuple[2])\n",
        "print(\"first indexing the last element of the tuple, which is a list and \\n then last element of the list (a string) and then second last element of the string:\")\n",
        "print(name_tuple[-1][-1][-2])\n"
      ],
      "metadata": {
        "colab": {
          "base_uri": "https://localhost:8080/"
        },
        "id": "x5eOXNK5FtlF",
        "outputId": "1c4d02ac-40f9-490d-f2f9-4a82560f8408"
      },
      "execution_count": 5,
      "outputs": [
        {
          "output_type": "stream",
          "name": "stdout",
          "text": [
            "(2, 3)\n",
            "first indexing the last element of the tuple, which is a list and \n",
            " then last element of the list (a string) and then second last element of the string:\n",
            "n\n"
          ]
        }
      ]
    },
    {
      "cell_type": "code",
      "source": [
        "## tuples are immutable, read the error !\n",
        " #usued when passing parameters etc. and dont want them to be changed\n",
        "\n",
        "name_tuple"
      ],
      "metadata": {
        "colab": {
          "base_uri": "https://localhost:8080/"
        },
        "id": "m92Oab8YRha1",
        "outputId": "12a0b5da-abe3-4bcd-f1a5-db651185d3f8"
      },
      "execution_count": 7,
      "outputs": [
        {
          "output_type": "execute_result",
          "data": {
            "text/plain": [
              "('First Lab', 1, (2, 3), [1, 1, 'list having string'])"
            ]
          },
          "metadata": {},
          "execution_count": 7
        }
      ]
    },
    {
      "cell_type": "code",
      "source": [
        "## Sets\n",
        "'''a Set is an unordered collection of data types that is iterable, mutable and has no duplicate elements.\n",
        "The order of elements in a set is undefined though it may consist of various elements.\n",
        "The major advantage of using a set, as opposed to a list,\n",
        " is that it has a highly optimized method for checking whether a specific element is contained in the set.\n",
        "'''\n",
        "set_unique = set([1,1,2,3,5,6,'Lab1'])\n",
        "print(set_unique) ##notice it is unordered\n",
        "last_el = set_unique.pop()\n",
        "set_unique.add((1,2))\n",
        "\n",
        "\n",
        "print(last_el)\n",
        "print(set_unique)\n",
        "\n",
        "\n",
        "\n",
        "\n"
      ],
      "metadata": {
        "id": "MfkMO0mlTcep",
        "colab": {
          "base_uri": "https://localhost:8080/"
        },
        "outputId": "0e0c931b-8e14-4ecf-eaef-e77860289ac5"
      },
      "execution_count": 8,
      "outputs": [
        {
          "output_type": "stream",
          "name": "stdout",
          "text": [
            "{1, 2, 3, 5, 6, 'Lab1'}\n",
            "1\n",
            "{2, 3, (1, 2), 5, 6, 'Lab1'}\n"
          ]
        }
      ]
    },
    {
      "cell_type": "code",
      "source": [
        "set_unique##it is not indexable"
      ],
      "metadata": {
        "colab": {
          "base_uri": "https://localhost:8080/"
        },
        "id": "QgHlNSRPampd",
        "outputId": "0b8d5b7c-97e3-4994-a289-6c7468ff4b81"
      },
      "execution_count": 10,
      "outputs": [
        {
          "output_type": "execute_result",
          "data": {
            "text/plain": [
              "{(1, 2), 2, 3, 5, 6, 'Lab1'}"
            ]
          },
          "metadata": {},
          "execution_count": 10
        }
      ]
    },
    {
      "cell_type": "code",
      "source": [
        "## Dictionary\n",
        "'''\n",
        "Dictionary in Python is an unordered collection of data values, used to store data values like a map,\n",
        " which, unlike other data types which hold only a single value as an element.\n",
        "'''\n",
        "\n",
        "dic = {'1': 'A','2':'B', 'C':3 } ##Observe how key and values can be anything\n",
        "dic['4'] ='New'\n",
        "print(dic)"
      ],
      "metadata": {
        "colab": {
          "base_uri": "https://localhost:8080/"
        },
        "id": "rxhE3hYtZxVb",
        "outputId": "0e9aceee-daa9-4ec8-d774-e34c66158290"
      },
      "execution_count": 11,
      "outputs": [
        {
          "output_type": "stream",
          "name": "stdout",
          "text": [
            "{'1': 'A', '2': 'B', 'C': 3, '4': 'New'}\n"
          ]
        }
      ]
    },
    {
      "cell_type": "markdown",
      "source": [
        "#### Question 0:\n",
        "###### write down 3-5 methods applicable to each data type. (Hint: extend, reverse, etc."
      ],
      "metadata": {
        "id": "hizs_paeceA5"
      }
    },
    {
      "cell_type": "markdown",
      "source": [
        "#OUESTION (0)\n",
        "Certainly! Here are some common methods applicable to different data types:\n",
        "\n",
        "**For Strings:**\n",
        "1. `concatenate`: Combines two or more strings into a single string.\n",
        "2. `substring`: Extracts a portion of the string based on a specified range of indices.\n",
        "3. `replace`: Replaces occurrences of a specified substring with another substring.\n",
        "4. `toUpperCase`/`toLowerCase`: Converts the string to uppercase or lowercase, respectively.\n",
        "5. `split`: Divides the string into an array of substrings based on a specified delimiter.\n",
        "\n",
        "**For Lists/Arrays:**\n",
        "1. `append`: Adds an element to the end of the list/array.\n",
        "2. `insert`: Inserts an element at a specific position in the list/array.\n",
        "3. `pop`: Removes and returns the last element (or an element at a specified index).\n",
        "4. `extend`: Appends the elements of another list/array to the current list/array.\n",
        "5. `reverse`: Reverses the order of elements in the list/array.\n",
        "\n",
        "**For Numbers (Numeric Data Types):**\n",
        "1. `add`: Adds two numbers together.\n",
        "2. `subtract`: Subtracts one number from another.\n",
        "3. `multiply`: Multiplies two numbers together.\n",
        "4. `divide`: Divides one number by another.\n",
        "5. `round`: Rounds a floating-point number to the nearest integer.\n",
        "\n",
        "**For Dictionaries (Key-Value Pairs):**\n",
        "1. `get`: Retrieves the value associated with a specific key.\n",
        "2. `update`: Updates the values of one dictionary with the key-value pairs of another.\n",
        "3. `keys`: Returns a list of all keys in the dictionary.\n",
        "4. `values`: Returns a list of all values in the dictionary.\n",
        "5. `items`: Returns a list of key-value pairs (tuples) from the dictionary.\n",
        "\n",
        "**For Sets (Unordered Collections of Unique Elements):**\n",
        "1. `add`: Adds an element to the set.\n",
        "2. `remove`: Removes a specified element from the set.\n",
        "3. `union`: Returns a new set containing all unique elements from two sets.\n",
        "4. `intersection`: Returns a new set containing elements that are common to two sets.\n",
        "5. `difference`: Returns a new set containing elements that are in one set but not in another.\n",
        "\n",
        "These are just some common methods associated with different data types. Depending on the programming language and specific data structures, additional methods may be available."
      ],
      "metadata": {
        "id": "Hh4-6vTuTNDl"
      }
    },
    {
      "cell_type": "markdown",
      "source": [
        "## Section 2 - Functions\n",
        "### a group of related statements that performs a specific task."
      ],
      "metadata": {
        "id": "tub_Skp3X1cN"
      }
    },
    {
      "cell_type": "code",
      "source": [
        "def add_new(a:str, b): ## a and b are the arguments that are passed. to provide data type hint\n",
        "                              # def add_new(x: float, y: float) -> float:\n",
        "  sum = a + b\n",
        "  return sum\n",
        "\n",
        "ans = add_new(1,2) ## intentionally written str, and passed int, to show it doesn't matter. It is just hint\n",
        "print(ans)"
      ],
      "metadata": {
        "colab": {
          "base_uri": "https://localhost:8080/"
        },
        "id": "K-6Q5T8nX_YF",
        "outputId": "ca85233f-22c3-405d-94a0-51f4731647f5"
      },
      "execution_count": 12,
      "outputs": [
        {
          "output_type": "stream",
          "name": "stdout",
          "text": [
            "3\n"
          ]
        }
      ]
    },
    {
      "cell_type": "code",
      "source": [
        "asn = add_new(1,3)"
      ],
      "metadata": {
        "id": "aVLU3Bpu0YJV"
      },
      "execution_count": 31,
      "outputs": []
    },
    {
      "cell_type": "code",
      "source": [
        "def check_even_list(num_list):\n",
        "\n",
        "    even_numbers = []\n",
        "\n",
        "    # Go through each number\n",
        "    for number in num_list:\n",
        "        # Once we get a \"hit\" on an even number, we append the even number\n",
        "        if number % 2 == 0:\n",
        "            even_numbers.append(number)\n",
        "        # Don't do anything if its not even\n",
        "        else:\n",
        "            pass\n",
        "    # Notice the indentation! This ensures we run through the entire for loop\n",
        "    return even_numbers"
      ],
      "metadata": {
        "id": "aRa47XCsZLsh"
      },
      "execution_count": 30,
      "outputs": []
    },
    {
      "cell_type": "markdown",
      "source": [
        "#### Question 1 :\n",
        "\n",
        "##### Define a function, which takes in two strings A and B. Reverses the first string A, adds it to B, and returns the final string.\n",
        "\n",
        "\n",
        "#### Question 2 :\n",
        "##### Given a list having Names, work_hours, and gender, Write a function to print name of the female worker that worked the most hours. Also how much do should she be paid if the pay is $ 20 per hour.\n",
        "\n",
        "##### work_hours = [('Abby',100 , 'F'),('Billy',400, 'M'),('Cassie',800,'F'), ('Maggi',600,'F'),('Alex',500,'M'),('Raj',225,'M'),('Penny',920,'F'),('Ben',300,'M')]\n",
        "\n",
        "##### Answer : the female worker that worked the most hours is Penny and she should be paid 18400"
      ],
      "metadata": {
        "id": "heD0_u4D01jp"
      }
    },
    {
      "cell_type": "code",
      "source": [
        "#QUESTION(1)\n",
        "def reverse_and_concatenate(A, B):\n",
        "    reversed_A = A[::-1]  # Reverse string A\n",
        "    result = reversed_A + B  # Concatenate reversed A with B\n",
        "    return result\n"
      ],
      "metadata": {
        "id": "UD8Cw7ptP2J9"
      },
      "execution_count": 13,
      "outputs": []
    },
    {
      "cell_type": "code",
      "source": [
        "#QUESTION (2)\n",
        "def find_highest_female_worker(work_hours):\n",
        "    max_hours = 0\n",
        "    female_worker = None\n",
        "\n",
        "    for name, hours, gender in work_hours:\n",
        "        if gender == 'F' and hours > max_hours:\n",
        "            max_hours = hours\n",
        "            female_worker = name\n",
        "\n",
        "    if female_worker:\n",
        "        pay = max_hours * 20\n",
        "        return f\"The female worker that worked the most hours is {female_worker} and she should be paid ${pay}.\"\n",
        "    else:\n",
        "        return \"No female worker found in the list.\"\n",
        "\n",
        "work_hours = [('Abby', 100, 'F'), ('Billy', 400, 'M'), ('Cassie', 800, 'F'), ('Maggi', 600, 'F'), ('Alex', 500, 'M'), ('Raj', 225, 'M'), ('Penny', 920, 'F'), ('Ben', 300, 'M')]\n",
        "\n",
        "result = find_highest_female_worker(work_hours)\n",
        "print(result)\n"
      ],
      "metadata": {
        "id": "-jP6HGGmQNSa",
        "outputId": "c5962a36-6dd5-448b-9f1c-3871df887996",
        "colab": {
          "base_uri": "https://localhost:8080/"
        }
      },
      "execution_count": 14,
      "outputs": [
        {
          "output_type": "stream",
          "name": "stdout",
          "text": [
            "The female worker that worked the most hours is Penny and she should be paid $18400.\n"
          ]
        }
      ]
    },
    {
      "cell_type": "markdown",
      "source": [
        "#### Section 3 - Libraries and Reading data."
      ],
      "metadata": {
        "id": "T9fGzOAKXhtt"
      }
    },
    {
      "cell_type": "markdown",
      "source": [
        "##### Numpy - One of the most used libraries - supports for large, multi-dimensional arrays and matrices, along with a large collection of high-level mathematical functions to operate on these arrays."
      ],
      "metadata": {
        "id": "TKVyOsBKYZXa"
      }
    },
    {
      "cell_type": "code",
      "source": [
        "import numpy as np"
      ],
      "metadata": {
        "id": "_ODaZ44RXkyg"
      },
      "execution_count": 17,
      "outputs": []
    },
    {
      "cell_type": "code",
      "source": [
        "\n",
        "a = np.array([1,1,2,3,4,5,5,6,1]) ## np.array converts given list to array\n",
        "\n",
        "b = a>1 ## important comparison operation, where frequently used in manipulation and image processing.\n",
        "\n",
        "print(b)\n",
        "print(a[b]) ## [printing only those values in a which are greater than 1]\n"
      ],
      "metadata": {
        "colab": {
          "base_uri": "https://localhost:8080/"
        },
        "id": "29vs7Iicavlg",
        "outputId": "a9e10f59-549b-4abe-a5fd-1a184d4b591e"
      },
      "execution_count": 32,
      "outputs": [
        {
          "output_type": "stream",
          "name": "stdout",
          "text": [
            "[False False  True  True  True  True  True  True False]\n",
            "[2 3 4 5 5 6]\n"
          ]
        }
      ]
    },
    {
      "cell_type": "code",
      "source": [
        "a_range = np.arange(10,19).reshape(3,3) ## create a 3x3 array with values in range 10-19\n",
        "a_range\n"
      ],
      "metadata": {
        "colab": {
          "base_uri": "https://localhost:8080/"
        },
        "id": "MAGJJ1K_jCHN",
        "outputId": "24ef3706-b8d3-4db0-ecd1-2354569888f4"
      },
      "execution_count": 18,
      "outputs": [
        {
          "output_type": "execute_result",
          "data": {
            "text/plain": [
              "array([[10, 11, 12],\n",
              "       [13, 14, 15],\n",
              "       [16, 17, 18]])"
            ]
          },
          "metadata": {},
          "execution_count": 18
        }
      ]
    },
    {
      "cell_type": "code",
      "source": [
        "## Indexing in arrays works same as that of list\n",
        "\n",
        "a_range[0] # printing all the columns of first row"
      ],
      "metadata": {
        "colab": {
          "base_uri": "https://localhost:8080/"
        },
        "id": "BpNpo-eDt9Fr",
        "outputId": "99d46ea7-5f8d-4c80-b8a5-f91d414822ee"
      },
      "execution_count": 19,
      "outputs": [
        {
          "output_type": "execute_result",
          "data": {
            "text/plain": [
              "array([10, 11, 12])"
            ]
          },
          "metadata": {},
          "execution_count": 19
        }
      ]
    },
    {
      "cell_type": "code",
      "source": [
        "a_range[:,2] #printing all the rows of second column"
      ],
      "metadata": {
        "colab": {
          "base_uri": "https://localhost:8080/"
        },
        "id": "HbDG7M3QuCDQ",
        "outputId": "6a903dc4-5e18-4e7f-de6d-32264c19521e"
      },
      "execution_count": 20,
      "outputs": [
        {
          "output_type": "execute_result",
          "data": {
            "text/plain": [
              "array([12, 15, 18])"
            ]
          },
          "metadata": {},
          "execution_count": 20
        }
      ]
    },
    {
      "cell_type": "code",
      "source": [
        "iden = np.eye(3) #idnetity matrix of given size\n",
        "iden"
      ],
      "metadata": {
        "colab": {
          "base_uri": "https://localhost:8080/"
        },
        "id": "RQ7UV_-fjJw3",
        "outputId": "0fa1d0b0-9d66-4fc3-e2d9-5fd52a311aa1"
      },
      "execution_count": 21,
      "outputs": [
        {
          "output_type": "execute_result",
          "data": {
            "text/plain": [
              "array([[1., 0., 0.],\n",
              "       [0., 1., 0.],\n",
              "       [0., 0., 1.]])"
            ]
          },
          "metadata": {},
          "execution_count": 21
        }
      ]
    },
    {
      "cell_type": "code",
      "source": [
        "## adding two matrices\n",
        "summed = a_range + iden\n",
        "summed\n"
      ],
      "metadata": {
        "colab": {
          "base_uri": "https://localhost:8080/"
        },
        "id": "hYJXXvnwjPfE",
        "outputId": "c1dd6eca-951b-4fbd-f2eb-821c15422a6b"
      },
      "execution_count": 22,
      "outputs": [
        {
          "output_type": "execute_result",
          "data": {
            "text/plain": [
              "array([[11., 11., 12.],\n",
              "       [13., 15., 15.],\n",
              "       [16., 17., 19.]])"
            ]
          },
          "metadata": {},
          "execution_count": 22
        }
      ]
    },
    {
      "cell_type": "code",
      "source": [
        "### arrays support normal matrix multiplication that you are used to, point-wise multiplication\n",
        "### and dot product as well.\n",
        "\n",
        "mul = a_range@iden ## normal multiplication\n",
        "mul\n"
      ],
      "metadata": {
        "colab": {
          "base_uri": "https://localhost:8080/"
        },
        "id": "VoyeEptRjYRu",
        "outputId": "99409533-f84f-483f-a1db-9548695d3d7f"
      },
      "execution_count": 23,
      "outputs": [
        {
          "output_type": "execute_result",
          "data": {
            "text/plain": [
              "array([[10., 11., 12.],\n",
              "       [13., 14., 15.],\n",
              "       [16., 17., 18.]])"
            ]
          },
          "metadata": {},
          "execution_count": 23
        }
      ]
    },
    {
      "cell_type": "code",
      "source": [
        "## point wise multiplication\n",
        "p_mul = a_range * iden\n",
        "p_mul"
      ],
      "metadata": {
        "colab": {
          "base_uri": "https://localhost:8080/"
        },
        "id": "58S3a_YmtAe8",
        "outputId": "9a9f0b81-bd4a-4a36-88c7-1071076d617d"
      },
      "execution_count": 24,
      "outputs": [
        {
          "output_type": "execute_result",
          "data": {
            "text/plain": [
              "array([[10.,  0.,  0.],\n",
              "       [ 0., 14.,  0.],\n",
              "       [ 0.,  0., 18.]])"
            ]
          },
          "metadata": {},
          "execution_count": 24
        }
      ]
    },
    {
      "cell_type": "code",
      "source": [
        "## Transpose of a matrix.\n",
        "\n",
        "mtx_t = mul.T\n",
        "mtx_t\n"
      ],
      "metadata": {
        "colab": {
          "base_uri": "https://localhost:8080/"
        },
        "id": "HC5uJ03ftJHA",
        "outputId": "c23d6566-1e3f-4d9d-d9b4-432e6cf58ece"
      },
      "execution_count": 25,
      "outputs": [
        {
          "output_type": "execute_result",
          "data": {
            "text/plain": [
              "array([[10., 13., 16.],\n",
              "       [11., 14., 17.],\n",
              "       [12., 15., 18.]])"
            ]
          },
          "metadata": {},
          "execution_count": 25
        }
      ]
    },
    {
      "cell_type": "code",
      "source": [
        "### Here we are changing the values of last row of the transposed matrix.\n",
        "### basically point wise multiplying the values of last row with 1,2 and 3\n",
        "\n",
        "mtx_t[2] = mtx_t[2]*[1,2,3] ## indexing, point wise multiplication and mutation of values\n",
        "mtx_t"
      ],
      "metadata": {
        "colab": {
          "base_uri": "https://localhost:8080/"
        },
        "id": "ROFhfs2lutat",
        "outputId": "60955d4b-ef82-478c-bf1f-670c7fc8fb95"
      },
      "execution_count": 26,
      "outputs": [
        {
          "output_type": "execute_result",
          "data": {
            "text/plain": [
              "array([[10., 13., 16.],\n",
              "       [11., 14., 17.],\n",
              "       [12., 30., 54.]])"
            ]
          },
          "metadata": {},
          "execution_count": 26
        }
      ]
    },
    {
      "cell_type": "code",
      "source": [
        "## Just like the greater than 1 (a>1) example we saw earlier.\n",
        "## here we are checking if the elements are divisible by 2 (%), and if they are, then replace by 0.\n",
        "\n",
        "mtx_t[(mtx_t % 2 == 0)] = 0 ## convert even elements of the matrix to zero.\n",
        "mtx_t"
      ],
      "metadata": {
        "colab": {
          "base_uri": "https://localhost:8080/"
        },
        "id": "Mh80ju2xvAqL",
        "outputId": "efe7b2ca-f528-4e37-e51d-aac47b58a705"
      },
      "execution_count": 27,
      "outputs": [
        {
          "output_type": "execute_result",
          "data": {
            "text/plain": [
              "array([[ 0., 13.,  0.],\n",
              "       [11.,  0., 17.],\n",
              "       [ 0.,  0.,  0.]])"
            ]
          },
          "metadata": {},
          "execution_count": 27
        }
      ]
    },
    {
      "cell_type": "markdown",
      "source": [
        "#### Question 3 :\n",
        "\n",
        "##### a)Create a 5x5 matrix of the following form,\n",
        "\n",
        "##### [[1,1]\n",
        "#####  [2,2]]\n",
        "\n",
        "#####  i.e. each row is increasing and has repetive elements.\n",
        "\n",
        "######  Hint : you can use hstack, vstack  etc.\n",
        "\n",
        "##### b) find dot product of the matrix with any matrix. (Figure out the size/ shape of the matrix)"
      ],
      "metadata": {
        "id": "uqWUH6Rv4OhT"
      }
    },
    {
      "cell_type": "code",
      "source": [
        "#QUESTION (3)\n",
        "matrix = []\n",
        "for i in range(1, 6):\n",
        "    row = [i] * 5\n",
        "    matrix.append(row)\n",
        "\n",
        "print(matrix)\n"
      ],
      "metadata": {
        "id": "vMIgyuA6UY6u",
        "outputId": "71e3a8ed-6a8a-4bb8-e0e9-f7a8a7203f0f",
        "colab": {
          "base_uri": "https://localhost:8080/"
        }
      },
      "execution_count": 35,
      "outputs": [
        {
          "output_type": "stream",
          "name": "stdout",
          "text": [
            "[[1, 1, 1, 1, 1], [2, 2, 2, 2, 2], [3, 3, 3, 3, 3], [4, 4, 4, 4, 4], [5, 5, 5, 5, 5]]\n"
          ]
        }
      ]
    },
    {
      "cell_type": "markdown",
      "source": [
        "#### Reading Files"
      ],
      "metadata": {
        "id": "GzNoCosKdVa2"
      }
    },
    {
      "cell_type": "code",
      "source": [
        "## loading from the google drive\n",
        "from google.colab import drive\n",
        "drive.mount('/content/gdrive')"
      ],
      "metadata": {
        "colab": {
          "base_uri": "https://localhost:8080/"
        },
        "id": "_wCHdrtQwDJe",
        "outputId": "3ef854b8-2d84-417d-a41f-ebd03e53ecec"
      },
      "execution_count": 33,
      "outputs": [
        {
          "output_type": "stream",
          "name": "stdout",
          "text": [
            "Mounted at /content/gdrive\n"
          ]
        }
      ]
    },
    {
      "cell_type": "code",
      "source": [
        "with open ('/content/sample_data/README.md', 'r') as f:\n",
        "  a = f.readlines()\n",
        "\n",
        "a ## here a is list of elements/strings each splitted at \\n, \\n is also part of the list element.\n"
      ],
      "metadata": {
        "colab": {
          "base_uri": "https://localhost:8080/"
        },
        "id": "c1rzXSJobLku",
        "outputId": "54de841a-59f8-4d32-e335-b9a3d208ab1d"
      },
      "execution_count": 34,
      "outputs": [
        {
          "output_type": "execute_result",
          "data": {
            "text/plain": [
              "['This directory includes a few sample datasets to get you started.\\n',\n",
              " '\\n',\n",
              " '*   `california_housing_data*.csv` is California housing data from the 1990 US\\n',\n",
              " '    Census; more information is available at:\\n',\n",
              " '    https://developers.google.com/machine-learning/crash-course/california-housing-data-description\\n',\n",
              " '\\n',\n",
              " '*   `mnist_*.csv` is a small sample of the\\n',\n",
              " '    [MNIST database](https://en.wikipedia.org/wiki/MNIST_database), which is\\n',\n",
              " '    described at: http://yann.lecun.com/exdb/mnist/\\n',\n",
              " '\\n',\n",
              " '*   `anscombe.json` contains a copy of\\n',\n",
              " \"    [Anscombe's quartet](https://en.wikipedia.org/wiki/Anscombe%27s_quartet); it\\n\",\n",
              " '    was originally described in\\n',\n",
              " '\\n',\n",
              " \"    Anscombe, F. J. (1973). 'Graphs in Statistical Analysis'. American\\n\",\n",
              " '    Statistician. 27 (1): 17-21. JSTOR 2682899.\\n',\n",
              " '\\n',\n",
              " '    and our copy was prepared by the\\n',\n",
              " '    [vega_datasets library](https://github.com/altair-viz/vega_datasets/blob/4f67bdaad10f45e3549984e17e1b3088c731503d/vega_datasets/_data/anscombe.json).\\n']"
            ]
          },
          "metadata": {},
          "execution_count": 34
        }
      ]
    },
    {
      "cell_type": "code",
      "source": [
        "import pandas as pd\n",
        "\n",
        "df = pd.read_csv('/content/sample_data/california_housing_test.csv','r')\n",
        "df.head(10) ## pass as argument number of top elements you wish to print. Head is used to have a quick glance and understand the data."
      ],
      "metadata": {
        "colab": {
          "base_uri": "https://localhost:8080/",
          "height": 419
        },
        "id": "CgXsQFpobVGk",
        "outputId": "14af35f9-8850-488a-d4d1-2f933f477f03"
      },
      "execution_count": 36,
      "outputs": [
        {
          "output_type": "stream",
          "name": "stderr",
          "text": [
            "<ipython-input-36-ad5bb400a483>:3: FutureWarning: In a future version of pandas all arguments of read_csv except for the argument 'filepath_or_buffer' will be keyword-only.\n",
            "  df = pd.read_csv('/content/sample_data/california_housing_test.csv','r')\n"
          ]
        },
        {
          "output_type": "execute_result",
          "data": {
            "text/plain": [
              "   longitude,\"latitude\",\"housing_median_age\",\"total_  ooms\",\"total_bed  \\\n",
              "0  -122.050000,37.370000,27.000000,3885.000000,66...               NaN   \n",
              "1  -118.300000,34.260000,43.000000,1510.000000,31...               NaN   \n",
              "2  -117.810000,33.780000,27.000000,3589.000000,50...               NaN   \n",
              "3  -118.360000,33.820000,28.000000,67.000000,15.0...               NaN   \n",
              "4  -119.670000,36.330000,19.000000,1241.000000,24...               NaN   \n",
              "5  -119.560000,36.510000,37.000000,1018.000000,21...               NaN   \n",
              "6  -121.430000,38.630000,43.000000,1009.000000,22...               NaN   \n",
              "7  -120.650000,35.480000,19.000000,2310.000000,47...               NaN   \n",
              "8  -122.840000,38.400000,15.000000,3080.000000,61...               NaN   \n",
              "9  -118.020000,34.080000,31.000000,2402.000000,63...               NaN   \n",
              "\n",
              "   ooms\",\"population\",\"households\",\"median_income\",\"median_house_value\"  \n",
              "0                                                NaN                     \n",
              "1                                                NaN                     \n",
              "2                                                NaN                     \n",
              "3                                                NaN                     \n",
              "4                                                NaN                     \n",
              "5                                                NaN                     \n",
              "6                                                NaN                     \n",
              "7                                                NaN                     \n",
              "8                                                NaN                     \n",
              "9                                                NaN                     "
            ],
            "text/html": [
              "\n",
              "  <div id=\"df-b164017c-fdce-4948-b91c-7a4f73e146ef\" class=\"colab-df-container\">\n",
              "    <div>\n",
              "<style scoped>\n",
              "    .dataframe tbody tr th:only-of-type {\n",
              "        vertical-align: middle;\n",
              "    }\n",
              "\n",
              "    .dataframe tbody tr th {\n",
              "        vertical-align: top;\n",
              "    }\n",
              "\n",
              "    .dataframe thead th {\n",
              "        text-align: right;\n",
              "    }\n",
              "</style>\n",
              "<table border=\"1\" class=\"dataframe\">\n",
              "  <thead>\n",
              "    <tr style=\"text-align: right;\">\n",
              "      <th></th>\n",
              "      <th>longitude,\"latitude\",\"housing_median_age\",\"total_</th>\n",
              "      <th>ooms\",\"total_bed</th>\n",
              "      <th>ooms\",\"population\",\"households\",\"median_income\",\"median_house_value\"</th>\n",
              "    </tr>\n",
              "  </thead>\n",
              "  <tbody>\n",
              "    <tr>\n",
              "      <th>0</th>\n",
              "      <td>-122.050000,37.370000,27.000000,3885.000000,66...</td>\n",
              "      <td>NaN</td>\n",
              "      <td>NaN</td>\n",
              "    </tr>\n",
              "    <tr>\n",
              "      <th>1</th>\n",
              "      <td>-118.300000,34.260000,43.000000,1510.000000,31...</td>\n",
              "      <td>NaN</td>\n",
              "      <td>NaN</td>\n",
              "    </tr>\n",
              "    <tr>\n",
              "      <th>2</th>\n",
              "      <td>-117.810000,33.780000,27.000000,3589.000000,50...</td>\n",
              "      <td>NaN</td>\n",
              "      <td>NaN</td>\n",
              "    </tr>\n",
              "    <tr>\n",
              "      <th>3</th>\n",
              "      <td>-118.360000,33.820000,28.000000,67.000000,15.0...</td>\n",
              "      <td>NaN</td>\n",
              "      <td>NaN</td>\n",
              "    </tr>\n",
              "    <tr>\n",
              "      <th>4</th>\n",
              "      <td>-119.670000,36.330000,19.000000,1241.000000,24...</td>\n",
              "      <td>NaN</td>\n",
              "      <td>NaN</td>\n",
              "    </tr>\n",
              "    <tr>\n",
              "      <th>5</th>\n",
              "      <td>-119.560000,36.510000,37.000000,1018.000000,21...</td>\n",
              "      <td>NaN</td>\n",
              "      <td>NaN</td>\n",
              "    </tr>\n",
              "    <tr>\n",
              "      <th>6</th>\n",
              "      <td>-121.430000,38.630000,43.000000,1009.000000,22...</td>\n",
              "      <td>NaN</td>\n",
              "      <td>NaN</td>\n",
              "    </tr>\n",
              "    <tr>\n",
              "      <th>7</th>\n",
              "      <td>-120.650000,35.480000,19.000000,2310.000000,47...</td>\n",
              "      <td>NaN</td>\n",
              "      <td>NaN</td>\n",
              "    </tr>\n",
              "    <tr>\n",
              "      <th>8</th>\n",
              "      <td>-122.840000,38.400000,15.000000,3080.000000,61...</td>\n",
              "      <td>NaN</td>\n",
              "      <td>NaN</td>\n",
              "    </tr>\n",
              "    <tr>\n",
              "      <th>9</th>\n",
              "      <td>-118.020000,34.080000,31.000000,2402.000000,63...</td>\n",
              "      <td>NaN</td>\n",
              "      <td>NaN</td>\n",
              "    </tr>\n",
              "  </tbody>\n",
              "</table>\n",
              "</div>\n",
              "    <div class=\"colab-df-buttons\">\n",
              "\n",
              "  <div class=\"colab-df-container\">\n",
              "    <button class=\"colab-df-convert\" onclick=\"convertToInteractive('df-b164017c-fdce-4948-b91c-7a4f73e146ef')\"\n",
              "            title=\"Convert this dataframe to an interactive table.\"\n",
              "            style=\"display:none;\">\n",
              "\n",
              "  <svg xmlns=\"http://www.w3.org/2000/svg\" height=\"24px\" viewBox=\"0 -960 960 960\">\n",
              "    <path d=\"M120-120v-720h720v720H120Zm60-500h600v-160H180v160Zm220 220h160v-160H400v160Zm0 220h160v-160H400v160ZM180-400h160v-160H180v160Zm440 0h160v-160H620v160ZM180-180h160v-160H180v160Zm440 0h160v-160H620v160Z\"/>\n",
              "  </svg>\n",
              "    </button>\n",
              "\n",
              "  <style>\n",
              "    .colab-df-container {\n",
              "      display:flex;\n",
              "      gap: 12px;\n",
              "    }\n",
              "\n",
              "    .colab-df-convert {\n",
              "      background-color: #E8F0FE;\n",
              "      border: none;\n",
              "      border-radius: 50%;\n",
              "      cursor: pointer;\n",
              "      display: none;\n",
              "      fill: #1967D2;\n",
              "      height: 32px;\n",
              "      padding: 0 0 0 0;\n",
              "      width: 32px;\n",
              "    }\n",
              "\n",
              "    .colab-df-convert:hover {\n",
              "      background-color: #E2EBFA;\n",
              "      box-shadow: 0px 1px 2px rgba(60, 64, 67, 0.3), 0px 1px 3px 1px rgba(60, 64, 67, 0.15);\n",
              "      fill: #174EA6;\n",
              "    }\n",
              "\n",
              "    .colab-df-buttons div {\n",
              "      margin-bottom: 4px;\n",
              "    }\n",
              "\n",
              "    [theme=dark] .colab-df-convert {\n",
              "      background-color: #3B4455;\n",
              "      fill: #D2E3FC;\n",
              "    }\n",
              "\n",
              "    [theme=dark] .colab-df-convert:hover {\n",
              "      background-color: #434B5C;\n",
              "      box-shadow: 0px 1px 3px 1px rgba(0, 0, 0, 0.15);\n",
              "      filter: drop-shadow(0px 1px 2px rgba(0, 0, 0, 0.3));\n",
              "      fill: #FFFFFF;\n",
              "    }\n",
              "  </style>\n",
              "\n",
              "    <script>\n",
              "      const buttonEl =\n",
              "        document.querySelector('#df-b164017c-fdce-4948-b91c-7a4f73e146ef button.colab-df-convert');\n",
              "      buttonEl.style.display =\n",
              "        google.colab.kernel.accessAllowed ? 'block' : 'none';\n",
              "\n",
              "      async function convertToInteractive(key) {\n",
              "        const element = document.querySelector('#df-b164017c-fdce-4948-b91c-7a4f73e146ef');\n",
              "        const dataTable =\n",
              "          await google.colab.kernel.invokeFunction('convertToInteractive',\n",
              "                                                    [key], {});\n",
              "        if (!dataTable) return;\n",
              "\n",
              "        const docLinkHtml = 'Like what you see? Visit the ' +\n",
              "          '<a target=\"_blank\" href=https://colab.research.google.com/notebooks/data_table.ipynb>data table notebook</a>'\n",
              "          + ' to learn more about interactive tables.';\n",
              "        element.innerHTML = '';\n",
              "        dataTable['output_type'] = 'display_data';\n",
              "        await google.colab.output.renderOutput(dataTable, element);\n",
              "        const docLink = document.createElement('div');\n",
              "        docLink.innerHTML = docLinkHtml;\n",
              "        element.appendChild(docLink);\n",
              "      }\n",
              "    </script>\n",
              "  </div>\n",
              "\n",
              "\n",
              "<div id=\"df-42472d05-1a5a-4c42-95af-6eb0412ab044\">\n",
              "  <button class=\"colab-df-quickchart\" onclick=\"quickchart('df-42472d05-1a5a-4c42-95af-6eb0412ab044')\"\n",
              "            title=\"Suggest charts.\"\n",
              "            style=\"display:none;\">\n",
              "\n",
              "<svg xmlns=\"http://www.w3.org/2000/svg\" height=\"24px\"viewBox=\"0 0 24 24\"\n",
              "     width=\"24px\">\n",
              "    <g>\n",
              "        <path d=\"M19 3H5c-1.1 0-2 .9-2 2v14c0 1.1.9 2 2 2h14c1.1 0 2-.9 2-2V5c0-1.1-.9-2-2-2zM9 17H7v-7h2v7zm4 0h-2V7h2v10zm4 0h-2v-4h2v4z\"/>\n",
              "    </g>\n",
              "</svg>\n",
              "  </button>\n",
              "\n",
              "<style>\n",
              "  .colab-df-quickchart {\n",
              "      --bg-color: #E8F0FE;\n",
              "      --fill-color: #1967D2;\n",
              "      --hover-bg-color: #E2EBFA;\n",
              "      --hover-fill-color: #174EA6;\n",
              "      --disabled-fill-color: #AAA;\n",
              "      --disabled-bg-color: #DDD;\n",
              "  }\n",
              "\n",
              "  [theme=dark] .colab-df-quickchart {\n",
              "      --bg-color: #3B4455;\n",
              "      --fill-color: #D2E3FC;\n",
              "      --hover-bg-color: #434B5C;\n",
              "      --hover-fill-color: #FFFFFF;\n",
              "      --disabled-bg-color: #3B4455;\n",
              "      --disabled-fill-color: #666;\n",
              "  }\n",
              "\n",
              "  .colab-df-quickchart {\n",
              "    background-color: var(--bg-color);\n",
              "    border: none;\n",
              "    border-radius: 50%;\n",
              "    cursor: pointer;\n",
              "    display: none;\n",
              "    fill: var(--fill-color);\n",
              "    height: 32px;\n",
              "    padding: 0;\n",
              "    width: 32px;\n",
              "  }\n",
              "\n",
              "  .colab-df-quickchart:hover {\n",
              "    background-color: var(--hover-bg-color);\n",
              "    box-shadow: 0 1px 2px rgba(60, 64, 67, 0.3), 0 1px 3px 1px rgba(60, 64, 67, 0.15);\n",
              "    fill: var(--button-hover-fill-color);\n",
              "  }\n",
              "\n",
              "  .colab-df-quickchart-complete:disabled,\n",
              "  .colab-df-quickchart-complete:disabled:hover {\n",
              "    background-color: var(--disabled-bg-color);\n",
              "    fill: var(--disabled-fill-color);\n",
              "    box-shadow: none;\n",
              "  }\n",
              "\n",
              "  .colab-df-spinner {\n",
              "    border: 2px solid var(--fill-color);\n",
              "    border-color: transparent;\n",
              "    border-bottom-color: var(--fill-color);\n",
              "    animation:\n",
              "      spin 1s steps(1) infinite;\n",
              "  }\n",
              "\n",
              "  @keyframes spin {\n",
              "    0% {\n",
              "      border-color: transparent;\n",
              "      border-bottom-color: var(--fill-color);\n",
              "      border-left-color: var(--fill-color);\n",
              "    }\n",
              "    20% {\n",
              "      border-color: transparent;\n",
              "      border-left-color: var(--fill-color);\n",
              "      border-top-color: var(--fill-color);\n",
              "    }\n",
              "    30% {\n",
              "      border-color: transparent;\n",
              "      border-left-color: var(--fill-color);\n",
              "      border-top-color: var(--fill-color);\n",
              "      border-right-color: var(--fill-color);\n",
              "    }\n",
              "    40% {\n",
              "      border-color: transparent;\n",
              "      border-right-color: var(--fill-color);\n",
              "      border-top-color: var(--fill-color);\n",
              "    }\n",
              "    60% {\n",
              "      border-color: transparent;\n",
              "      border-right-color: var(--fill-color);\n",
              "    }\n",
              "    80% {\n",
              "      border-color: transparent;\n",
              "      border-right-color: var(--fill-color);\n",
              "      border-bottom-color: var(--fill-color);\n",
              "    }\n",
              "    90% {\n",
              "      border-color: transparent;\n",
              "      border-bottom-color: var(--fill-color);\n",
              "    }\n",
              "  }\n",
              "</style>\n",
              "\n",
              "  <script>\n",
              "    async function quickchart(key) {\n",
              "      const quickchartButtonEl =\n",
              "        document.querySelector('#' + key + ' button');\n",
              "      quickchartButtonEl.disabled = true;  // To prevent multiple clicks.\n",
              "      quickchartButtonEl.classList.add('colab-df-spinner');\n",
              "      try {\n",
              "        const charts = await google.colab.kernel.invokeFunction(\n",
              "            'suggestCharts', [key], {});\n",
              "      } catch (error) {\n",
              "        console.error('Error during call to suggestCharts:', error);\n",
              "      }\n",
              "      quickchartButtonEl.classList.remove('colab-df-spinner');\n",
              "      quickchartButtonEl.classList.add('colab-df-quickchart-complete');\n",
              "    }\n",
              "    (() => {\n",
              "      let quickchartButtonEl =\n",
              "        document.querySelector('#df-42472d05-1a5a-4c42-95af-6eb0412ab044 button');\n",
              "      quickchartButtonEl.style.display =\n",
              "        google.colab.kernel.accessAllowed ? 'block' : 'none';\n",
              "    })();\n",
              "  </script>\n",
              "</div>\n",
              "    </div>\n",
              "  </div>\n"
            ]
          },
          "metadata": {},
          "execution_count": 36
        }
      ]
    },
    {
      "cell_type": "code",
      "source": [
        "len(df.columns), df.columns"
      ],
      "metadata": {
        "colab": {
          "base_uri": "https://localhost:8080/"
        },
        "id": "iMMaPe3gduKb",
        "outputId": "17199a85-bb5e-47a2-df32-d7b890c877d6"
      },
      "execution_count": 37,
      "outputs": [
        {
          "output_type": "execute_result",
          "data": {
            "text/plain": [
              "(3,\n",
              " Index(['longitude,\"latitude\",\"housing_median_age\",\"total_', 'ooms\",\"total_bed',\n",
              "        'ooms\",\"population\",\"households\",\"median_income\",\"median_house_value\"'],\n",
              "       dtype='object'))"
            ]
          },
          "metadata": {},
          "execution_count": 37
        }
      ]
    },
    {
      "cell_type": "code",
      "source": [
        "df.columns[0]"
      ],
      "metadata": {
        "colab": {
          "base_uri": "https://localhost:8080/",
          "height": 35
        },
        "id": "GT1dA9Q3eRQU",
        "outputId": "49ae5ac4-3b5b-4d69-dfa5-c608d653d4ce"
      },
      "execution_count": 38,
      "outputs": [
        {
          "output_type": "execute_result",
          "data": {
            "text/plain": [
              "'longitude,\"latitude\",\"housing_median_age\",\"total_'"
            ],
            "application/vnd.google.colaboratory.intrinsic+json": {
              "type": "string"
            }
          },
          "metadata": {},
          "execution_count": 38
        }
      ]
    },
    {
      "cell_type": "code",
      "source": [
        "df['longitude,\"latitude\",\"housing_median_age\",\"total_'][:5]"
      ],
      "metadata": {
        "colab": {
          "base_uri": "https://localhost:8080/"
        },
        "id": "oEZhq9rBe-Hb",
        "outputId": "3973b0c3-9d91-48e3-be22-e3fd7823d561"
      },
      "execution_count": 39,
      "outputs": [
        {
          "output_type": "execute_result",
          "data": {
            "text/plain": [
              "0    -122.050000,37.370000,27.000000,3885.000000,66...\n",
              "1    -118.300000,34.260000,43.000000,1510.000000,31...\n",
              "2    -117.810000,33.780000,27.000000,3589.000000,50...\n",
              "3    -118.360000,33.820000,28.000000,67.000000,15.0...\n",
              "4    -119.670000,36.330000,19.000000,1241.000000,24...\n",
              "Name: longitude,\"latitude\",\"housing_median_age\",\"total_, dtype: object"
            ]
          },
          "metadata": {},
          "execution_count": 39
        }
      ]
    },
    {
      "cell_type": "code",
      "source": [
        "df = df.rename(columns = {'longitude,\"latitude\",\"housing_median_age\",\"total_':'Detail1'}) ##rename column names as at times it makes it easier for us"
      ],
      "metadata": {
        "id": "-hpbslfWfwy3"
      },
      "execution_count": 40,
      "outputs": []
    },
    {
      "cell_type": "code",
      "source": [
        "df.head(3)"
      ],
      "metadata": {
        "colab": {
          "base_uri": "https://localhost:8080/",
          "height": 143
        },
        "id": "C0gpXPf1hN5Q",
        "outputId": "1dbf9fb9-b11d-4296-ecd7-d90fc06ccdc2"
      },
      "execution_count": 41,
      "outputs": [
        {
          "output_type": "execute_result",
          "data": {
            "text/plain": [
              "                                             Detail1  ooms\",\"total_bed  \\\n",
              "0  -122.050000,37.370000,27.000000,3885.000000,66...               NaN   \n",
              "1  -118.300000,34.260000,43.000000,1510.000000,31...               NaN   \n",
              "2  -117.810000,33.780000,27.000000,3589.000000,50...               NaN   \n",
              "\n",
              "   ooms\",\"population\",\"households\",\"median_income\",\"median_house_value\"  \n",
              "0                                                NaN                     \n",
              "1                                                NaN                     \n",
              "2                                                NaN                     "
            ],
            "text/html": [
              "\n",
              "  <div id=\"df-dabb1c06-c383-4eec-b9d0-c6ae2a9452a3\" class=\"colab-df-container\">\n",
              "    <div>\n",
              "<style scoped>\n",
              "    .dataframe tbody tr th:only-of-type {\n",
              "        vertical-align: middle;\n",
              "    }\n",
              "\n",
              "    .dataframe tbody tr th {\n",
              "        vertical-align: top;\n",
              "    }\n",
              "\n",
              "    .dataframe thead th {\n",
              "        text-align: right;\n",
              "    }\n",
              "</style>\n",
              "<table border=\"1\" class=\"dataframe\">\n",
              "  <thead>\n",
              "    <tr style=\"text-align: right;\">\n",
              "      <th></th>\n",
              "      <th>Detail1</th>\n",
              "      <th>ooms\",\"total_bed</th>\n",
              "      <th>ooms\",\"population\",\"households\",\"median_income\",\"median_house_value\"</th>\n",
              "    </tr>\n",
              "  </thead>\n",
              "  <tbody>\n",
              "    <tr>\n",
              "      <th>0</th>\n",
              "      <td>-122.050000,37.370000,27.000000,3885.000000,66...</td>\n",
              "      <td>NaN</td>\n",
              "      <td>NaN</td>\n",
              "    </tr>\n",
              "    <tr>\n",
              "      <th>1</th>\n",
              "      <td>-118.300000,34.260000,43.000000,1510.000000,31...</td>\n",
              "      <td>NaN</td>\n",
              "      <td>NaN</td>\n",
              "    </tr>\n",
              "    <tr>\n",
              "      <th>2</th>\n",
              "      <td>-117.810000,33.780000,27.000000,3589.000000,50...</td>\n",
              "      <td>NaN</td>\n",
              "      <td>NaN</td>\n",
              "    </tr>\n",
              "  </tbody>\n",
              "</table>\n",
              "</div>\n",
              "    <div class=\"colab-df-buttons\">\n",
              "\n",
              "  <div class=\"colab-df-container\">\n",
              "    <button class=\"colab-df-convert\" onclick=\"convertToInteractive('df-dabb1c06-c383-4eec-b9d0-c6ae2a9452a3')\"\n",
              "            title=\"Convert this dataframe to an interactive table.\"\n",
              "            style=\"display:none;\">\n",
              "\n",
              "  <svg xmlns=\"http://www.w3.org/2000/svg\" height=\"24px\" viewBox=\"0 -960 960 960\">\n",
              "    <path d=\"M120-120v-720h720v720H120Zm60-500h600v-160H180v160Zm220 220h160v-160H400v160Zm0 220h160v-160H400v160ZM180-400h160v-160H180v160Zm440 0h160v-160H620v160ZM180-180h160v-160H180v160Zm440 0h160v-160H620v160Z\"/>\n",
              "  </svg>\n",
              "    </button>\n",
              "\n",
              "  <style>\n",
              "    .colab-df-container {\n",
              "      display:flex;\n",
              "      gap: 12px;\n",
              "    }\n",
              "\n",
              "    .colab-df-convert {\n",
              "      background-color: #E8F0FE;\n",
              "      border: none;\n",
              "      border-radius: 50%;\n",
              "      cursor: pointer;\n",
              "      display: none;\n",
              "      fill: #1967D2;\n",
              "      height: 32px;\n",
              "      padding: 0 0 0 0;\n",
              "      width: 32px;\n",
              "    }\n",
              "\n",
              "    .colab-df-convert:hover {\n",
              "      background-color: #E2EBFA;\n",
              "      box-shadow: 0px 1px 2px rgba(60, 64, 67, 0.3), 0px 1px 3px 1px rgba(60, 64, 67, 0.15);\n",
              "      fill: #174EA6;\n",
              "    }\n",
              "\n",
              "    .colab-df-buttons div {\n",
              "      margin-bottom: 4px;\n",
              "    }\n",
              "\n",
              "    [theme=dark] .colab-df-convert {\n",
              "      background-color: #3B4455;\n",
              "      fill: #D2E3FC;\n",
              "    }\n",
              "\n",
              "    [theme=dark] .colab-df-convert:hover {\n",
              "      background-color: #434B5C;\n",
              "      box-shadow: 0px 1px 3px 1px rgba(0, 0, 0, 0.15);\n",
              "      filter: drop-shadow(0px 1px 2px rgba(0, 0, 0, 0.3));\n",
              "      fill: #FFFFFF;\n",
              "    }\n",
              "  </style>\n",
              "\n",
              "    <script>\n",
              "      const buttonEl =\n",
              "        document.querySelector('#df-dabb1c06-c383-4eec-b9d0-c6ae2a9452a3 button.colab-df-convert');\n",
              "      buttonEl.style.display =\n",
              "        google.colab.kernel.accessAllowed ? 'block' : 'none';\n",
              "\n",
              "      async function convertToInteractive(key) {\n",
              "        const element = document.querySelector('#df-dabb1c06-c383-4eec-b9d0-c6ae2a9452a3');\n",
              "        const dataTable =\n",
              "          await google.colab.kernel.invokeFunction('convertToInteractive',\n",
              "                                                    [key], {});\n",
              "        if (!dataTable) return;\n",
              "\n",
              "        const docLinkHtml = 'Like what you see? Visit the ' +\n",
              "          '<a target=\"_blank\" href=https://colab.research.google.com/notebooks/data_table.ipynb>data table notebook</a>'\n",
              "          + ' to learn more about interactive tables.';\n",
              "        element.innerHTML = '';\n",
              "        dataTable['output_type'] = 'display_data';\n",
              "        await google.colab.output.renderOutput(dataTable, element);\n",
              "        const docLink = document.createElement('div');\n",
              "        docLink.innerHTML = docLinkHtml;\n",
              "        element.appendChild(docLink);\n",
              "      }\n",
              "    </script>\n",
              "  </div>\n",
              "\n",
              "\n",
              "<div id=\"df-01befcba-d4d7-4fb6-8b40-3a9cf2ff8189\">\n",
              "  <button class=\"colab-df-quickchart\" onclick=\"quickchart('df-01befcba-d4d7-4fb6-8b40-3a9cf2ff8189')\"\n",
              "            title=\"Suggest charts.\"\n",
              "            style=\"display:none;\">\n",
              "\n",
              "<svg xmlns=\"http://www.w3.org/2000/svg\" height=\"24px\"viewBox=\"0 0 24 24\"\n",
              "     width=\"24px\">\n",
              "    <g>\n",
              "        <path d=\"M19 3H5c-1.1 0-2 .9-2 2v14c0 1.1.9 2 2 2h14c1.1 0 2-.9 2-2V5c0-1.1-.9-2-2-2zM9 17H7v-7h2v7zm4 0h-2V7h2v10zm4 0h-2v-4h2v4z\"/>\n",
              "    </g>\n",
              "</svg>\n",
              "  </button>\n",
              "\n",
              "<style>\n",
              "  .colab-df-quickchart {\n",
              "      --bg-color: #E8F0FE;\n",
              "      --fill-color: #1967D2;\n",
              "      --hover-bg-color: #E2EBFA;\n",
              "      --hover-fill-color: #174EA6;\n",
              "      --disabled-fill-color: #AAA;\n",
              "      --disabled-bg-color: #DDD;\n",
              "  }\n",
              "\n",
              "  [theme=dark] .colab-df-quickchart {\n",
              "      --bg-color: #3B4455;\n",
              "      --fill-color: #D2E3FC;\n",
              "      --hover-bg-color: #434B5C;\n",
              "      --hover-fill-color: #FFFFFF;\n",
              "      --disabled-bg-color: #3B4455;\n",
              "      --disabled-fill-color: #666;\n",
              "  }\n",
              "\n",
              "  .colab-df-quickchart {\n",
              "    background-color: var(--bg-color);\n",
              "    border: none;\n",
              "    border-radius: 50%;\n",
              "    cursor: pointer;\n",
              "    display: none;\n",
              "    fill: var(--fill-color);\n",
              "    height: 32px;\n",
              "    padding: 0;\n",
              "    width: 32px;\n",
              "  }\n",
              "\n",
              "  .colab-df-quickchart:hover {\n",
              "    background-color: var(--hover-bg-color);\n",
              "    box-shadow: 0 1px 2px rgba(60, 64, 67, 0.3), 0 1px 3px 1px rgba(60, 64, 67, 0.15);\n",
              "    fill: var(--button-hover-fill-color);\n",
              "  }\n",
              "\n",
              "  .colab-df-quickchart-complete:disabled,\n",
              "  .colab-df-quickchart-complete:disabled:hover {\n",
              "    background-color: var(--disabled-bg-color);\n",
              "    fill: var(--disabled-fill-color);\n",
              "    box-shadow: none;\n",
              "  }\n",
              "\n",
              "  .colab-df-spinner {\n",
              "    border: 2px solid var(--fill-color);\n",
              "    border-color: transparent;\n",
              "    border-bottom-color: var(--fill-color);\n",
              "    animation:\n",
              "      spin 1s steps(1) infinite;\n",
              "  }\n",
              "\n",
              "  @keyframes spin {\n",
              "    0% {\n",
              "      border-color: transparent;\n",
              "      border-bottom-color: var(--fill-color);\n",
              "      border-left-color: var(--fill-color);\n",
              "    }\n",
              "    20% {\n",
              "      border-color: transparent;\n",
              "      border-left-color: var(--fill-color);\n",
              "      border-top-color: var(--fill-color);\n",
              "    }\n",
              "    30% {\n",
              "      border-color: transparent;\n",
              "      border-left-color: var(--fill-color);\n",
              "      border-top-color: var(--fill-color);\n",
              "      border-right-color: var(--fill-color);\n",
              "    }\n",
              "    40% {\n",
              "      border-color: transparent;\n",
              "      border-right-color: var(--fill-color);\n",
              "      border-top-color: var(--fill-color);\n",
              "    }\n",
              "    60% {\n",
              "      border-color: transparent;\n",
              "      border-right-color: var(--fill-color);\n",
              "    }\n",
              "    80% {\n",
              "      border-color: transparent;\n",
              "      border-right-color: var(--fill-color);\n",
              "      border-bottom-color: var(--fill-color);\n",
              "    }\n",
              "    90% {\n",
              "      border-color: transparent;\n",
              "      border-bottom-color: var(--fill-color);\n",
              "    }\n",
              "  }\n",
              "</style>\n",
              "\n",
              "  <script>\n",
              "    async function quickchart(key) {\n",
              "      const quickchartButtonEl =\n",
              "        document.querySelector('#' + key + ' button');\n",
              "      quickchartButtonEl.disabled = true;  // To prevent multiple clicks.\n",
              "      quickchartButtonEl.classList.add('colab-df-spinner');\n",
              "      try {\n",
              "        const charts = await google.colab.kernel.invokeFunction(\n",
              "            'suggestCharts', [key], {});\n",
              "      } catch (error) {\n",
              "        console.error('Error during call to suggestCharts:', error);\n",
              "      }\n",
              "      quickchartButtonEl.classList.remove('colab-df-spinner');\n",
              "      quickchartButtonEl.classList.add('colab-df-quickchart-complete');\n",
              "    }\n",
              "    (() => {\n",
              "      let quickchartButtonEl =\n",
              "        document.querySelector('#df-01befcba-d4d7-4fb6-8b40-3a9cf2ff8189 button');\n",
              "      quickchartButtonEl.style.display =\n",
              "        google.colab.kernel.accessAllowed ? 'block' : 'none';\n",
              "    })();\n",
              "  </script>\n",
              "</div>\n",
              "    </div>\n",
              "  </div>\n"
            ]
          },
          "metadata": {},
          "execution_count": 41
        }
      ]
    },
    {
      "cell_type": "code",
      "source": [
        "df.iloc[:5, 0]  ##iloc - index - 0 to 4 rows and first column only."
      ],
      "metadata": {
        "colab": {
          "base_uri": "https://localhost:8080/"
        },
        "id": "A0FFUn-ghP1n",
        "outputId": "bcc2f5f4-f989-4be1-81a2-482c6beeea1c"
      },
      "execution_count": 42,
      "outputs": [
        {
          "output_type": "execute_result",
          "data": {
            "text/plain": [
              "0    -122.050000,37.370000,27.000000,3885.000000,66...\n",
              "1    -118.300000,34.260000,43.000000,1510.000000,31...\n",
              "2    -117.810000,33.780000,27.000000,3589.000000,50...\n",
              "3    -118.360000,33.820000,28.000000,67.000000,15.0...\n",
              "4    -119.670000,36.330000,19.000000,1241.000000,24...\n",
              "Name: Detail1, dtype: object"
            ]
          },
          "metadata": {},
          "execution_count": 42
        }
      ]
    },
    {
      "cell_type": "code",
      "source": [
        "import matplotlib\n",
        "from matplotlib import pyplot as plt"
      ],
      "metadata": {
        "id": "oJ7JrZqWioIO"
      },
      "execution_count": 43,
      "outputs": []
    },
    {
      "cell_type": "code",
      "source": [
        "xpoints = np.array([1, 8])\n",
        "ypoints = np.array([3, 10])\n",
        "\n",
        "plt.plot(xpoints, ypoints)\n",
        "plt.show()"
      ],
      "metadata": {
        "colab": {
          "base_uri": "https://localhost:8080/",
          "height": 430
        },
        "id": "tzunFbpUxKAP",
        "outputId": "c4feb37d-9d14-418d-f37c-b32d2b1a1ac3"
      },
      "execution_count": 44,
      "outputs": [
        {
          "output_type": "display_data",
          "data": {
            "text/plain": [
              "<Figure size 640x480 with 1 Axes>"
            ],
            "image/png": "[encoded data removed]"
          },
          "metadata": {}
        }
      ]
    },
    {
      "cell_type": "code",
      "source": [
        "xpoints = np.array([1, 2, 6, 8])\n",
        "ypoints = np.array([3, 8, 1, 10])\n",
        "\n",
        "plt.plot(xpoints, ypoints)\n",
        "plt.show()"
      ],
      "metadata": {
        "colab": {
          "base_uri": "https://localhost:8080/",
          "height": 430
        },
        "id": "p7l83i5SxW4k",
        "outputId": "8d5f9a92-c5a7-4fd2-cb1e-b6617e6a2401"
      },
      "execution_count": 45,
      "outputs": [
        {
          "output_type": "display_data",
          "data": {
            "text/plain": [
              "<Figure size 640x480 with 1 Axes>"
            ],
            "image/png": "[encoded data removed]"
          },
          "metadata": {}
        }
      ]
    },
    {
      "cell_type": "markdown",
      "source": [
        "## Creating a dataframe.\n",
        "#### Task: Study about other methods of creating dataframe (for example: using Pandas Series, Lists etc.)"
      ],
      "metadata": {
        "id": "GT6yXu7l1gtL"
      }
    },
    {
      "cell_type": "code",
      "source": [
        "import pandas as pd\n",
        "import numpy as np"
      ],
      "metadata": {
        "id": "1vR1hTJ51ckl"
      },
      "execution_count": 46,
      "outputs": []
    },
    {
      "cell_type": "code",
      "source": [
        "values = np.arange(16).reshape(4,4)\n",
        "values"
      ],
      "metadata": {
        "colab": {
          "base_uri": "https://localhost:8080/"
        },
        "id": "o0W0z3Fr1gOb",
        "outputId": "8cd261f4-9081-4cbc-e9ef-ff22e66537fc"
      },
      "execution_count": 47,
      "outputs": [
        {
          "output_type": "execute_result",
          "data": {
            "text/plain": [
              "array([[ 0,  1,  2,  3],\n",
              "       [ 4,  5,  6,  7],\n",
              "       [ 8,  9, 10, 11],\n",
              "       [12, 13, 14, 15]])"
            ]
          },
          "metadata": {},
          "execution_count": 47
        }
      ]
    },
    {
      "cell_type": "code",
      "source": [
        "dataframe_from_array = pd.DataFrame(values, index = ['a','b','c','d'], columns=['w','x','y','z'] )\n",
        "dataframe_from_array"
      ],
      "metadata": {
        "colab": {
          "base_uri": "https://localhost:8080/",
          "height": 175
        },
        "id": "_p5vKhPN2Bey",
        "outputId": "1bf7ffa2-484b-42d9-ab0e-eae6ee54d3bd"
      },
      "execution_count": 48,
      "outputs": [
        {
          "output_type": "execute_result",
          "data": {
            "text/plain": [
              "    w   x   y   z\n",
              "a   0   1   2   3\n",
              "b   4   5   6   7\n",
              "c   8   9  10  11\n",
              "d  12  13  14  15"
            ],
            "text/html": [
              "\n",
              "  <div id=\"df-559c17ce-428d-43a1-801b-73c381bdd1f9\" class=\"colab-df-container\">\n",
              "    <div>\n",
              "<style scoped>\n",
              "    .dataframe tbody tr th:only-of-type {\n",
              "        vertical-align: middle;\n",
              "    }\n",
              "\n",
              "    .dataframe tbody tr th {\n",
              "        vertical-align: top;\n",
              "    }\n",
              "\n",
              "    .dataframe thead th {\n",
              "        text-align: right;\n",
              "    }\n",
              "</style>\n",
              "<table border=\"1\" class=\"dataframe\">\n",
              "  <thead>\n",
              "    <tr style=\"text-align: right;\">\n",
              "      <th></th>\n",
              "      <th>w</th>\n",
              "      <th>x</th>\n",
              "      <th>y</th>\n",
              "      <th>z</th>\n",
              "    </tr>\n",
              "  </thead>\n",
              "  <tbody>\n",
              "    <tr>\n",
              "      <th>a</th>\n",
              "      <td>0</td>\n",
              "      <td>1</td>\n",
              "      <td>2</td>\n",
              "      <td>3</td>\n",
              "    </tr>\n",
              "    <tr>\n",
              "      <th>b</th>\n",
              "      <td>4</td>\n",
              "      <td>5</td>\n",
              "      <td>6</td>\n",
              "      <td>7</td>\n",
              "    </tr>\n",
              "    <tr>\n",
              "      <th>c</th>\n",
              "      <td>8</td>\n",
              "      <td>9</td>\n",
              "      <td>10</td>\n",
              "      <td>11</td>\n",
              "    </tr>\n",
              "    <tr>\n",
              "      <th>d</th>\n",
              "      <td>12</td>\n",
              "      <td>13</td>\n",
              "      <td>14</td>\n",
              "      <td>15</td>\n",
              "    </tr>\n",
              "  </tbody>\n",
              "</table>\n",
              "</div>\n",
              "    <div class=\"colab-df-buttons\">\n",
              "\n",
              "  <div class=\"colab-df-container\">\n",
              "    <button class=\"colab-df-convert\" onclick=\"convertToInteractive('df-559c17ce-428d-43a1-801b-73c381bdd1f9')\"\n",
              "            title=\"Convert this dataframe to an interactive table.\"\n",
              "            style=\"display:none;\">\n",
              "\n",
              "  <svg xmlns=\"http://www.w3.org/2000/svg\" height=\"24px\" viewBox=\"0 -960 960 960\">\n",
              "    <path d=\"M120-120v-720h720v720H120Zm60-500h600v-160H180v160Zm220 220h160v-160H400v160Zm0 220h160v-160H400v160ZM180-400h160v-160H180v160Zm440 0h160v-160H620v160ZM180-180h160v-160H180v160Zm440 0h160v-160H620v160Z\"/>\n",
              "  </svg>\n",
              "    </button>\n",
              "\n",
              "  <style>\n",
              "    .colab-df-container {\n",
              "      display:flex;\n",
              "      gap: 12px;\n",
              "    }\n",
              "\n",
              "    .colab-df-convert {\n",
              "      background-color: #E8F0FE;\n",
              "      border: none;\n",
              "      border-radius: 50%;\n",
              "      cursor: pointer;\n",
              "      display: none;\n",
              "      fill: #1967D2;\n",
              "      height: 32px;\n",
              "      padding: 0 0 0 0;\n",
              "      width: 32px;\n",
              "    }\n",
              "\n",
              "    .colab-df-convert:hover {\n",
              "      background-color: #E2EBFA;\n",
              "      box-shadow: 0px 1px 2px rgba(60, 64, 67, 0.3), 0px 1px 3px 1px rgba(60, 64, 67, 0.15);\n",
              "      fill: #174EA6;\n",
              "    }\n",
              "\n",
              "    .colab-df-buttons div {\n",
              "      margin-bottom: 4px;\n",
              "    }\n",
              "\n",
              "    [theme=dark] .colab-df-convert {\n",
              "      background-color: #3B4455;\n",
              "      fill: #D2E3FC;\n",
              "    }\n",
              "\n",
              "    [theme=dark] .colab-df-convert:hover {\n",
              "      background-color: #434B5C;\n",
              "      box-shadow: 0px 1px 3px 1px rgba(0, 0, 0, 0.15);\n",
              "      filter: drop-shadow(0px 1px 2px rgba(0, 0, 0, 0.3));\n",
              "      fill: #FFFFFF;\n",
              "    }\n",
              "  </style>\n",
              "\n",
              "    <script>\n",
              "      const buttonEl =\n",
              "        document.querySelector('#df-559c17ce-428d-43a1-801b-73c381bdd1f9 button.colab-df-convert');\n",
              "      buttonEl.style.display =\n",
              "        google.colab.kernel.accessAllowed ? 'block' : 'none';\n",
              "\n",
              "      async function convertToInteractive(key) {\n",
              "        const element = document.querySelector('#df-559c17ce-428d-43a1-801b-73c381bdd1f9');\n",
              "        const dataTable =\n",
              "          await google.colab.kernel.invokeFunction('convertToInteractive',\n",
              "                                                    [key], {});\n",
              "        if (!dataTable) return;\n",
              "\n",
              "        const docLinkHtml = 'Like what you see? Visit the ' +\n",
              "          '<a target=\"_blank\" href=https://colab.research.google.com/notebooks/data_table.ipynb>data table notebook</a>'\n",
              "          + ' to learn more about interactive tables.';\n",
              "        element.innerHTML = '';\n",
              "        dataTable['output_type'] = 'display_data';\n",
              "        await google.colab.output.renderOutput(dataTable, element);\n",
              "        const docLink = document.createElement('div');\n",
              "        docLink.innerHTML = docLinkHtml;\n",
              "        element.appendChild(docLink);\n",
              "      }\n",
              "    </script>\n",
              "  </div>\n",
              "\n",
              "\n",
              "<div id=\"df-012b9054-2ea9-4f83-89ec-65151632bcc5\">\n",
              "  <button class=\"colab-df-quickchart\" onclick=\"quickchart('df-012b9054-2ea9-4f83-89ec-65151632bcc5')\"\n",
              "            title=\"Suggest charts.\"\n",
              "            style=\"display:none;\">\n",
              "\n",
              "<svg xmlns=\"http://www.w3.org/2000/svg\" height=\"24px\"viewBox=\"0 0 24 24\"\n",
              "     width=\"24px\">\n",
              "    <g>\n",
              "        <path d=\"M19 3H5c-1.1 0-2 .9-2 2v14c0 1.1.9 2 2 2h14c1.1 0 2-.9 2-2V5c0-1.1-.9-2-2-2zM9 17H7v-7h2v7zm4 0h-2V7h2v10zm4 0h-2v-4h2v4z\"/>\n",
              "    </g>\n",
              "</svg>\n",
              "  </button>\n",
              "\n",
              "<style>\n",
              "  .colab-df-quickchart {\n",
              "      --bg-color: #E8F0FE;\n",
              "      --fill-color: #1967D2;\n",
              "      --hover-bg-color: #E2EBFA;\n",
              "      --hover-fill-color: #174EA6;\n",
              "      --disabled-fill-color: #AAA;\n",
              "      --disabled-bg-color: #DDD;\n",
              "  }\n",
              "\n",
              "  [theme=dark] .colab-df-quickchart {\n",
              "      --bg-color: #3B4455;\n",
              "      --fill-color: #D2E3FC;\n",
              "      --hover-bg-color: #434B5C;\n",
              "      --hover-fill-color: #FFFFFF;\n",
              "      --disabled-bg-color: #3B4455;\n",
              "      --disabled-fill-color: #666;\n",
              "  }\n",
              "\n",
              "  .colab-df-quickchart {\n",
              "    background-color: var(--bg-color);\n",
              "    border: none;\n",
              "    border-radius: 50%;\n",
              "    cursor: pointer;\n",
              "    display: none;\n",
              "    fill: var(--fill-color);\n",
              "    height: 32px;\n",
              "    padding: 0;\n",
              "    width: 32px;\n",
              "  }\n",
              "\n",
              "  .colab-df-quickchart:hover {\n",
              "    background-color: var(--hover-bg-color);\n",
              "    box-shadow: 0 1px 2px rgba(60, 64, 67, 0.3), 0 1px 3px 1px rgba(60, 64, 67, 0.15);\n",
              "    fill: var(--button-hover-fill-color);\n",
              "  }\n",
              "\n",
              "  .colab-df-quickchart-complete:disabled,\n",
              "  .colab-df-quickchart-complete:disabled:hover {\n",
              "    background-color: var(--disabled-bg-color);\n",
              "    fill: var(--disabled-fill-color);\n",
              "    box-shadow: none;\n",
              "  }\n",
              "\n",
              "  .colab-df-spinner {\n",
              "    border: 2px solid var(--fill-color);\n",
              "    border-color: transparent;\n",
              "    border-bottom-color: var(--fill-color);\n",
              "    animation:\n",
              "      spin 1s steps(1) infinite;\n",
              "  }\n",
              "\n",
              "  @keyframes spin {\n",
              "    0% {\n",
              "      border-color: transparent;\n",
              "      border-bottom-color: var(--fill-color);\n",
              "      border-left-color: var(--fill-color);\n",
              "    }\n",
              "    20% {\n",
              "      border-color: transparent;\n",
              "      border-left-color: var(--fill-color);\n",
              "      border-top-color: var(--fill-color);\n",
              "    }\n",
              "    30% {\n",
              "      border-color: transparent;\n",
              "      border-left-color: var(--fill-color);\n",
              "      border-top-color: var(--fill-color);\n",
              "      border-right-color: var(--fill-color);\n",
              "    }\n",
              "    40% {\n",
              "      border-color: transparent;\n",
              "      border-right-color: var(--fill-color);\n",
              "      border-top-color: var(--fill-color);\n",
              "    }\n",
              "    60% {\n",
              "      border-color: transparent;\n",
              "      border-right-color: var(--fill-color);\n",
              "    }\n",
              "    80% {\n",
              "      border-color: transparent;\n",
              "      border-right-color: var(--fill-color);\n",
              "      border-bottom-color: var(--fill-color);\n",
              "    }\n",
              "    90% {\n",
              "      border-color: transparent;\n",
              "      border-bottom-color: var(--fill-color);\n",
              "    }\n",
              "  }\n",
              "</style>\n",
              "\n",
              "  <script>\n",
              "    async function quickchart(key) {\n",
              "      const quickchartButtonEl =\n",
              "        document.querySelector('#' + key + ' button');\n",
              "      quickchartButtonEl.disabled = true;  // To prevent multiple clicks.\n",
              "      quickchartButtonEl.classList.add('colab-df-spinner');\n",
              "      try {\n",
              "        const charts = await google.colab.kernel.invokeFunction(\n",
              "            'suggestCharts', [key], {});\n",
              "      } catch (error) {\n",
              "        console.error('Error during call to suggestCharts:', error);\n",
              "      }\n",
              "      quickchartButtonEl.classList.remove('colab-df-spinner');\n",
              "      quickchartButtonEl.classList.add('colab-df-quickchart-complete');\n",
              "    }\n",
              "    (() => {\n",
              "      let quickchartButtonEl =\n",
              "        document.querySelector('#df-012b9054-2ea9-4f83-89ec-65151632bcc5 button');\n",
              "      quickchartButtonEl.style.display =\n",
              "        google.colab.kernel.accessAllowed ? 'block' : 'none';\n",
              "    })();\n",
              "  </script>\n",
              "</div>\n",
              "    </div>\n",
              "  </div>\n"
            ]
          },
          "metadata": {},
          "execution_count": 48
        }
      ]
    },
    {
      "cell_type": "code",
      "source": [
        "dataframe_from_array.loc[['a','b'],['w','x']]"
      ],
      "metadata": {
        "colab": {
          "base_uri": "https://localhost:8080/",
          "height": 112
        },
        "id": "jdIORDyX2h-Z",
        "outputId": "ab0b3215-fdc8-49aa-bb58-0020b5d6a43e"
      },
      "execution_count": 49,
      "outputs": [
        {
          "output_type": "execute_result",
          "data": {
            "text/plain": [
              "   w  x\n",
              "a  0  1\n",
              "b  4  5"
            ],
            "text/html": [
              "\n",
              "  <div id=\"df-e16dadc1-2699-4285-b4b6-c5d7c43c9452\" class=\"colab-df-container\">\n",
              "    <div>\n",
              "<style scoped>\n",
              "    .dataframe tbody tr th:only-of-type {\n",
              "        vertical-align: middle;\n",
              "    }\n",
              "\n",
              "    .dataframe tbody tr th {\n",
              "        vertical-align: top;\n",
              "    }\n",
              "\n",
              "    .dataframe thead th {\n",
              "        text-align: right;\n",
              "    }\n",
              "</style>\n",
              "<table border=\"1\" class=\"dataframe\">\n",
              "  <thead>\n",
              "    <tr style=\"text-align: right;\">\n",
              "      <th></th>\n",
              "      <th>w</th>\n",
              "      <th>x</th>\n",
              "    </tr>\n",
              "  </thead>\n",
              "  <tbody>\n",
              "    <tr>\n",
              "      <th>a</th>\n",
              "      <td>0</td>\n",
              "      <td>1</td>\n",
              "    </tr>\n",
              "    <tr>\n",
              "      <th>b</th>\n",
              "      <td>4</td>\n",
              "      <td>5</td>\n",
              "    </tr>\n",
              "  </tbody>\n",
              "</table>\n",
              "</div>\n",
              "    <div class=\"colab-df-buttons\">\n",
              "\n",
              "  <div class=\"colab-df-container\">\n",
              "    <button class=\"colab-df-convert\" onclick=\"convertToInteractive('df-e16dadc1-2699-4285-b4b6-c5d7c43c9452')\"\n",
              "            title=\"Convert this dataframe to an interactive table.\"\n",
              "            style=\"display:none;\">\n",
              "\n",
              "  <svg xmlns=\"http://www.w3.org/2000/svg\" height=\"24px\" viewBox=\"0 -960 960 960\">\n",
              "    <path d=\"M120-120v-720h720v720H120Zm60-500h600v-160H180v160Zm220 220h160v-160H400v160Zm0 220h160v-160H400v160ZM180-400h160v-160H180v160Zm440 0h160v-160H620v160ZM180-180h160v-160H180v160Zm440 0h160v-160H620v160Z\"/>\n",
              "  </svg>\n",
              "    </button>\n",
              "\n",
              "  <style>\n",
              "    .colab-df-container {\n",
              "      display:flex;\n",
              "      gap: 12px;\n",
              "    }\n",
              "\n",
              "    .colab-df-convert {\n",
              "      background-color: #E8F0FE;\n",
              "      border: none;\n",
              "      border-radius: 50%;\n",
              "      cursor: pointer;\n",
              "      display: none;\n",
              "      fill: #1967D2;\n",
              "      height: 32px;\n",
              "      padding: 0 0 0 0;\n",
              "      width: 32px;\n",
              "    }\n",
              "\n",
              "    .colab-df-convert:hover {\n",
              "      background-color: #E2EBFA;\n",
              "      box-shadow: 0px 1px 2px rgba(60, 64, 67, 0.3), 0px 1px 3px 1px rgba(60, 64, 67, 0.15);\n",
              "      fill: #174EA6;\n",
              "    }\n",
              "\n",
              "    .colab-df-buttons div {\n",
              "      margin-bottom: 4px;\n",
              "    }\n",
              "\n",
              "    [theme=dark] .colab-df-convert {\n",
              "      background-color: #3B4455;\n",
              "      fill: #D2E3FC;\n",
              "    }\n",
              "\n",
              "    [theme=dark] .colab-df-convert:hover {\n",
              "      background-color: #434B5C;\n",
              "      box-shadow: 0px 1px 3px 1px rgba(0, 0, 0, 0.15);\n",
              "      filter: drop-shadow(0px 1px 2px rgba(0, 0, 0, 0.3));\n",
              "      fill: #FFFFFF;\n",
              "    }\n",
              "  </style>\n",
              "\n",
              "    <script>\n",
              "      const buttonEl =\n",
              "        document.querySelector('#df-e16dadc1-2699-4285-b4b6-c5d7c43c9452 button.colab-df-convert');\n",
              "      buttonEl.style.display =\n",
              "        google.colab.kernel.accessAllowed ? 'block' : 'none';\n",
              "\n",
              "      async function convertToInteractive(key) {\n",
              "        const element = document.querySelector('#df-e16dadc1-2699-4285-b4b6-c5d7c43c9452');\n",
              "        const dataTable =\n",
              "          await google.colab.kernel.invokeFunction('convertToInteractive',\n",
              "                                                    [key], {});\n",
              "        if (!dataTable) return;\n",
              "\n",
              "        const docLinkHtml = 'Like what you see? Visit the ' +\n",
              "          '<a target=\"_blank\" href=https://colab.research.google.com/notebooks/data_table.ipynb>data table notebook</a>'\n",
              "          + ' to learn more about interactive tables.';\n",
              "        element.innerHTML = '';\n",
              "        dataTable['output_type'] = 'display_data';\n",
              "        await google.colab.output.renderOutput(dataTable, element);\n",
              "        const docLink = document.createElement('div');\n",
              "        docLink.innerHTML = docLinkHtml;\n",
              "        element.appendChild(docLink);\n",
              "      }\n",
              "    </script>\n",
              "  </div>\n",
              "\n",
              "\n",
              "<div id=\"df-458aebac-8051-4030-981d-5bdb46d1c63b\">\n",
              "  <button class=\"colab-df-quickchart\" onclick=\"quickchart('df-458aebac-8051-4030-981d-5bdb46d1c63b')\"\n",
              "            title=\"Suggest charts.\"\n",
              "            style=\"display:none;\">\n",
              "\n",
              "<svg xmlns=\"http://www.w3.org/2000/svg\" height=\"24px\"viewBox=\"0 0 24 24\"\n",
              "     width=\"24px\">\n",
              "    <g>\n",
              "        <path d=\"M19 3H5c-1.1 0-2 .9-2 2v14c0 1.1.9 2 2 2h14c1.1 0 2-.9 2-2V5c0-1.1-.9-2-2-2zM9 17H7v-7h2v7zm4 0h-2V7h2v10zm4 0h-2v-4h2v4z\"/>\n",
              "    </g>\n",
              "</svg>\n",
              "  </button>\n",
              "\n",
              "<style>\n",
              "  .colab-df-quickchart {\n",
              "      --bg-color: #E8F0FE;\n",
              "      --fill-color: #1967D2;\n",
              "      --hover-bg-color: #E2EBFA;\n",
              "      --hover-fill-color: #174EA6;\n",
              "      --disabled-fill-color: #AAA;\n",
              "      --disabled-bg-color: #DDD;\n",
              "  }\n",
              "\n",
              "  [theme=dark] .colab-df-quickchart {\n",
              "      --bg-color: #3B4455;\n",
              "      --fill-color: #D2E3FC;\n",
              "      --hover-bg-color: #434B5C;\n",
              "      --hover-fill-color: #FFFFFF;\n",
              "      --disabled-bg-color: #3B4455;\n",
              "      --disabled-fill-color: #666;\n",
              "  }\n",
              "\n",
              "  .colab-df-quickchart {\n",
              "    background-color: var(--bg-color);\n",
              "    border: none;\n",
              "    border-radius: 50%;\n",
              "    cursor: pointer;\n",
              "    display: none;\n",
              "    fill: var(--fill-color);\n",
              "    height: 32px;\n",
              "    padding: 0;\n",
              "    width: 32px;\n",
              "  }\n",
              "\n",
              "  .colab-df-quickchart:hover {\n",
              "    background-color: var(--hover-bg-color);\n",
              "    box-shadow: 0 1px 2px rgba(60, 64, 67, 0.3), 0 1px 3px 1px rgba(60, 64, 67, 0.15);\n",
              "    fill: var(--button-hover-fill-color);\n",
              "  }\n",
              "\n",
              "  .colab-df-quickchart-complete:disabled,\n",
              "  .colab-df-quickchart-complete:disabled:hover {\n",
              "    background-color: var(--disabled-bg-color);\n",
              "    fill: var(--disabled-fill-color);\n",
              "    box-shadow: none;\n",
              "  }\n",
              "\n",
              "  .colab-df-spinner {\n",
              "    border: 2px solid var(--fill-color);\n",
              "    border-color: transparent;\n",
              "    border-bottom-color: var(--fill-color);\n",
              "    animation:\n",
              "      spin 1s steps(1) infinite;\n",
              "  }\n",
              "\n",
              "  @keyframes spin {\n",
              "    0% {\n",
              "      border-color: transparent;\n",
              "      border-bottom-color: var(--fill-color);\n",
              "      border-left-color: var(--fill-color);\n",
              "    }\n",
              "    20% {\n",
              "      border-color: transparent;\n",
              "      border-left-color: var(--fill-color);\n",
              "      border-top-color: var(--fill-color);\n",
              "    }\n",
              "    30% {\n",
              "      border-color: transparent;\n",
              "      border-left-color: var(--fill-color);\n",
              "      border-top-color: var(--fill-color);\n",
              "      border-right-color: var(--fill-color);\n",
              "    }\n",
              "    40% {\n",
              "      border-color: transparent;\n",
              "      border-right-color: var(--fill-color);\n",
              "      border-top-color: var(--fill-color);\n",
              "    }\n",
              "    60% {\n",
              "      border-color: transparent;\n",
              "      border-right-color: var(--fill-color);\n",
              "    }\n",
              "    80% {\n",
              "      border-color: transparent;\n",
              "      border-right-color: var(--fill-color);\n",
              "      border-bottom-color: var(--fill-color);\n",
              "    }\n",
              "    90% {\n",
              "      border-color: transparent;\n",
              "      border-bottom-color: var(--fill-color);\n",
              "    }\n",
              "  }\n",
              "</style>\n",
              "\n",
              "  <script>\n",
              "    async function quickchart(key) {\n",
              "      const quickchartButtonEl =\n",
              "        document.querySelector('#' + key + ' button');\n",
              "      quickchartButtonEl.disabled = true;  // To prevent multiple clicks.\n",
              "      quickchartButtonEl.classList.add('colab-df-spinner');\n",
              "      try {\n",
              "        const charts = await google.colab.kernel.invokeFunction(\n",
              "            'suggestCharts', [key], {});\n",
              "      } catch (error) {\n",
              "        console.error('Error during call to suggestCharts:', error);\n",
              "      }\n",
              "      quickchartButtonEl.classList.remove('colab-df-spinner');\n",
              "      quickchartButtonEl.classList.add('colab-df-quickchart-complete');\n",
              "    }\n",
              "    (() => {\n",
              "      let quickchartButtonEl =\n",
              "        document.querySelector('#df-458aebac-8051-4030-981d-5bdb46d1c63b button');\n",
              "      quickchartButtonEl.style.display =\n",
              "        google.colab.kernel.accessAllowed ? 'block' : 'none';\n",
              "    })();\n",
              "  </script>\n",
              "</div>\n",
              "    </div>\n",
              "  </div>\n"
            ]
          },
          "metadata": {},
          "execution_count": 49
        }
      ]
    },
    {
      "cell_type": "code",
      "source": [
        "dataframe_from_array.loc['a'] ## it needs position as integer"
      ],
      "metadata": {
        "colab": {
          "base_uri": "https://localhost:8080/"
        },
        "id": "iPTlROGv2r7M",
        "outputId": "532a1717-2cd3-4bdc-95d8-c138cb54ccab"
      },
      "execution_count": 51,
      "outputs": [
        {
          "output_type": "execute_result",
          "data": {
            "text/plain": [
              "w    0\n",
              "x    1\n",
              "y    2\n",
              "z    3\n",
              "Name: a, dtype: int64"
            ]
          },
          "metadata": {},
          "execution_count": 51
        }
      ]
    },
    {
      "cell_type": "code",
      "source": [
        "dataframe_from_array.iloc[1,3] #second row and last column"
      ],
      "metadata": {
        "colab": {
          "base_uri": "https://localhost:8080/"
        },
        "id": "PI4cRSO526jo",
        "outputId": "2ba8878e-166b-44c1-8e62-94789e0d6f51"
      },
      "execution_count": null,
      "outputs": [
        {
          "output_type": "execute_result",
          "data": {
            "text/plain": [
              "7"
            ]
          },
          "metadata": {},
          "execution_count": 8
        }
      ]
    },
    {
      "cell_type": "code",
      "source": [
        "dataframe_from_array.iloc[::2,::2]"
      ],
      "metadata": {
        "colab": {
          "base_uri": "https://localhost:8080/",
          "height": 112
        },
        "id": "-BpY8Prl3GQX",
        "outputId": "173191ad-f956-4477-a440-8eba89bb75f3"
      },
      "execution_count": null,
      "outputs": [
        {
          "output_type": "execute_result",
          "data": {
            "text/plain": [
              "   w   y\n",
              "a  0   2\n",
              "c  8  10"
            ],
            "text/html": [
              "\n",
              "  <div id=\"df-89245783-263e-47f5-bdca-53df2d773e37\">\n",
              "    <div class=\"colab-df-container\">\n",
              "      <div>\n",
              "<style scoped>\n",
              "    .dataframe tbody tr th:only-of-type {\n",
              "        vertical-align: middle;\n",
              "    }\n",
              "\n",
              "    .dataframe tbody tr th {\n",
              "        vertical-align: top;\n",
              "    }\n",
              "\n",
              "    .dataframe thead th {\n",
              "        text-align: right;\n",
              "    }\n",
              "</style>\n",
              "<table border=\"1\" class=\"dataframe\">\n",
              "  <thead>\n",
              "    <tr style=\"text-align: right;\">\n",
              "      <th></th>\n",
              "      <th>w</th>\n",
              "      <th>y</th>\n",
              "    </tr>\n",
              "  </thead>\n",
              "  <tbody>\n",
              "    <tr>\n",
              "      <th>a</th>\n",
              "      <td>0</td>\n",
              "      <td>2</td>\n",
              "    </tr>\n",
              "    <tr>\n",
              "      <th>c</th>\n",
              "      <td>8</td>\n",
              "      <td>10</td>\n",
              "    </tr>\n",
              "  </tbody>\n",
              "</table>\n",
              "</div>\n",
              "      <button class=\"colab-df-convert\" onclick=\"convertToInteractive('df-89245783-263e-47f5-bdca-53df2d773e37')\"\n",
              "              title=\"Convert this dataframe to an interactive table.\"\n",
              "              style=\"display:none;\">\n",
              "        \n",
              "  <svg xmlns=\"http://www.w3.org/2000/svg\" height=\"24px\"viewBox=\"0 0 24 24\"\n",
              "       width=\"24px\">\n",
              "    <path d=\"M0 0h24v24H0V0z\" fill=\"none\"/>\n",
              "    <path d=\"M18.56 5.44l.94 2.06.94-2.06 2.06-.94-2.06-.94-.94-2.06-.94 2.06-2.06.94zm-11 1L8.5 8.5l.94-2.06 2.06-.94-2.06-.94L8.5 2.5l-.94 2.06-2.06.94zm10 10l.94 2.06.94-2.06 2.06-.94-2.06-.94-.94-2.06-.94 2.06-2.06.94z\"/><path d=\"M17.41 7.96l-1.37-1.37c-.4-.4-.92-.59-1.43-.59-.52 0-1.04.2-1.43.59L10.3 9.45l-7.72 7.72c-.78.78-.78 2.05 0 2.83L4 21.41c.39.39.9.59 1.41.59.51 0 1.02-.2 1.41-.59l7.78-7.78 2.81-2.81c.8-.78.8-2.07 0-2.86zM5.41 20L4 18.59l7.72-7.72 1.47 1.35L5.41 20z\"/>\n",
              "  </svg>\n",
              "      </button>\n",
              "      \n",
              "  <style>\n",
              "    .colab-df-container {\n",
              "      display:flex;\n",
              "      flex-wrap:wrap;\n",
              "      gap: 12px;\n",
              "    }\n",
              "\n",
              "    .colab-df-convert {\n",
              "      background-color: #E8F0FE;\n",
              "      border: none;\n",
              "      border-radius: 50%;\n",
              "      cursor: pointer;\n",
              "      display: none;\n",
              "      fill: #1967D2;\n",
              "      height: 32px;\n",
              "      padding: 0 0 0 0;\n",
              "      width: 32px;\n",
              "    }\n",
              "\n",
              "    .colab-df-convert:hover {\n",
              "      background-color: #E2EBFA;\n",
              "      box-shadow: 0px 1px 2px rgba(60, 64, 67, 0.3), 0px 1px 3px 1px rgba(60, 64, 67, 0.15);\n",
              "      fill: #174EA6;\n",
              "    }\n",
              "\n",
              "    [theme=dark] .colab-df-convert {\n",
              "      background-color: #3B4455;\n",
              "      fill: #D2E3FC;\n",
              "    }\n",
              "\n",
              "    [theme=dark] .colab-df-convert:hover {\n",
              "      background-color: #434B5C;\n",
              "      box-shadow: 0px 1px 3px 1px rgba(0, 0, 0, 0.15);\n",
              "      filter: drop-shadow(0px 1px 2px rgba(0, 0, 0, 0.3));\n",
              "      fill: #FFFFFF;\n",
              "    }\n",
              "  </style>\n",
              "\n",
              "      <script>\n",
              "        const buttonEl =\n",
              "          document.querySelector('#df-89245783-263e-47f5-bdca-53df2d773e37 button.colab-df-convert');\n",
              "        buttonEl.style.display =\n",
              "          google.colab.kernel.accessAllowed ? 'block' : 'none';\n",
              "\n",
              "        async function convertToInteractive(key) {\n",
              "          const element = document.querySelector('#df-89245783-263e-47f5-bdca-53df2d773e37');\n",
              "          const dataTable =\n",
              "            await google.colab.kernel.invokeFunction('convertToInteractive',\n",
              "                                                     [key], {});\n",
              "          if (!dataTable) return;\n",
              "\n",
              "          const docLinkHtml = 'Like what you see? Visit the ' +\n",
              "            '<a target=\"_blank\" href=https://colab.research.google.com/notebooks/data_table.ipynb>data table notebook</a>'\n",
              "            + ' to learn more about interactive tables.';\n",
              "          element.innerHTML = '';\n",
              "          dataTable['output_type'] = 'display_data';\n",
              "          await google.colab.output.renderOutput(dataTable, element);\n",
              "          const docLink = document.createElement('div');\n",
              "          docLink.innerHTML = docLinkHtml;\n",
              "          element.appendChild(docLink);\n",
              "        }\n",
              "      </script>\n",
              "    </div>\n",
              "  </div>\n",
              "  "
            ]
          },
          "metadata": {},
          "execution_count": 11
        }
      ]
    },
    {
      "cell_type": "code",
      "source": [
        "\n",
        "import numpy as np\n",
        "from matplotlib import pyplot as plt\n",
        "\n",
        "ys = 200 + np.random.randn(100)\n",
        "x = [x for x in range(len(ys))]\n",
        "\n",
        "plt.plot(x, ys, '-')\n",
        "plt.fill_between(x, ys, 195, where=(ys > 200), facecolor='g', alpha=0.6)\n",
        "\n",
        "plt.title(\"Sample Visualization\")\n",
        "plt.show()"
      ],
      "metadata": {
        "colab": {
          "base_uri": "https://localhost:8080/",
          "height": 452
        },
        "id": "fqzrScL-GrZU",
        "outputId": "fa04d531-fad1-4a7c-bc11-eddcb0818b3a"
      },
      "execution_count": 52,
      "outputs": [
        {
          "output_type": "display_data",
          "data": {
            "text/plain": [
              "<Figure size 640x480 with 1 Axes>"
            ],
            "image/png": "[encoded data removed]"
          },
          "metadata": {}
        }
      ]
    },
    {
      "cell_type": "code",
      "source": [
        "## Question 3 : Upload an image to your google drive, Use plt.imread to read image from the google drive and then print that image using plt.imshow\n",
        "\n",
        "\n",
        "## Answer 3 :\n",
        "\n",
        "## 1) make sure drive is loaded and then upload a test image onto your drive\n"
      ],
      "metadata": {
        "id": "mC8rNbeKxiaF"
      },
      "execution_count": 53,
      "outputs": []
    },
    {
      "cell_type": "markdown",
      "source": [
        "![IMG-20230817-WA0001.jpg](data:image/jpeg;base64,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)"
      ],
      "metadata": {
        "id": "O4HQNY3CVWYc"
      }
    }
  ]
}